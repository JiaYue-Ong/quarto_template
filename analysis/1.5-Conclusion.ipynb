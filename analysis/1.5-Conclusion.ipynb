{
 "cells": [
  {
   "cell_type": "markdown",
   "metadata": {},
   "source": [
    "---\n",
    "title: \"5. Conclusion\"\n",
    "format: \n",
    "  html:\n",
    "    toc: false\n",
    "    page-layout: full\n",
    "execute:\n",
    "    echo: true\n",
    "    warning: false\n",
    "---"
   ]
  },
  {
   "cell_type": "markdown",
   "metadata": {},
   "source": [
    "Our analysis shows that there are large variations in median household income, education levels, unemployment rate, labour force participation rate, labour productivity, population, poverty rate across US states. There are moderate variations in life expectacny, with all states having life expectancy greater than 70. There is small variations in GDP per capita and net exports across states.\t\n",
    "\n",
    "Our analysis suggest suggest that states concentrated mostly in the Southern parts of the USA are more deprived, especially those in Cluster 1. The other clusters appear to be relatively more developed economically based on the 10 variables.\n",
    "\n",
    "Policymakers can thus consider improving their economic conditions through further investigation whether there is a causal relationship between the four variables and their predictors. For example, there is likely to be a causal relationship between higher percentage of bachelor's degree graduate and median household income, as a bachelor's degree provides more opportunity to access higher wage and skills jobs. On the other hand, higher life expectancy is unlikely to cause a higher percentage of bachelor's degree graduate. Future research and analysis can also look into using states as a fixed-effect variable to model for variations in socioeconomic variables."
   ]
  }
 ],
 "metadata": {
  "language_info": {
   "name": "python"
  }
 },
 "nbformat": 4,
 "nbformat_minor": 2
}
